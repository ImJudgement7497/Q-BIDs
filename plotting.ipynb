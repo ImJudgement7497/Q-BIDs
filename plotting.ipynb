{
 "cells": [
  {
   "cell_type": "code",
   "execution_count": null,
   "metadata": {},
   "outputs": [],
   "source": [
    "\n",
    "import numpy as np\n",
    "import matplotlib.pyplot as plt"
   ]
  },
  {
   "cell_type": "code",
   "execution_count": null,
   "metadata": {},
   "outputs": [],
   "source": [
    "r\"\"\" Yang and Guo Example Cartesian Form\n",
    "x = [-2, 4], y = [-3, 3]\"\"\"\n",
    "\n",
    "def yang_and_guo_cartesian(x, y):\n",
    "    r = np.sqrt(x**2 + y**2)\n",
    "    theta = np.arctan2(y, x)\n",
    "    return (r-2)**2 + ((theta**2) / 4) - 1\n",
    "\n",
    "x_start = -2\n",
    "x_end = 4\n",
    "y_start = -3\n",
    "y_end = 3\n",
    "grid_size = 250\n",
    "\n",
    "x_vals = np.linspace(x_start, x_end, grid_size)\n",
    "y_vals = np.linspace(y_start, y_end, grid_size)\n",
    "X, Y = np.meshgrid(x_vals, y_vals)\n",
    "\n",
    "Z = yang_and_guo_cartesian(X, Y)\n",
    "\n",
    "plt.figure(figsize=(6, 6))\n",
    "plt.contour(X, Y, Z, levels=[0], colors='blue')\n",
    "# plt.title(\"Function in Cartesian Coordinates\")\n",
    "plt.xlabel(\"x\")\n",
    "plt.ylabel(\"y\")\n",
    "plt.grid()\n",
    "plt.savefig(\"./figures/yang_and_guo_cartesian.svg\")"
   ]
  },
  {
   "cell_type": "code",
   "execution_count": null,
   "metadata": {},
   "outputs": [],
   "source": [
    "r\"\"\" Yang and Guo Example Polar Orthognal Form\n",
    "x = [-2, 4], y = [-3, 3]\"\"\"\n",
    "\n",
    "def yang_and_guo_polar(x, y):\n",
    "    return (x-2)**2 + ((y**2) / 4) - 1\n",
    "\n",
    "x_start = -0.5\n",
    "x_end = 4.5\n",
    "y_start = -2.5\n",
    "y_end = 2.5\n",
    "grid_size = 250\n",
    "\n",
    "x_vals = np.linspace(x_start, x_end, grid_size)\n",
    "y_vals = np.linspace(y_start, y_end, grid_size)\n",
    "X, Y = np.meshgrid(x_vals, y_vals)\n",
    "\n",
    "Z = yang_and_guo_polar(X, Y)\n",
    "\n",
    "plt.figure(figsize=(6, 6))\n",
    "plt.contour(X, Y, Z, levels=[0], colors='blue')\n",
    "plt.xlabel(\"r\")\n",
    "plt.ylabel(\"theta\")\n",
    "plt.yticks([-np.pi/2, 0, np.pi/2], labels=[\"-π/2\", \"0\", \"π/2\"])\n",
    "plt.grid()\n",
    "plt.savefig(\"./figures/yang_and_guo_ortho_polar.svg\")"
   ]
  },
  {
   "cell_type": "code",
   "execution_count": null,
   "metadata": {},
   "outputs": [],
   "source": [
    "r\"\"\" Nephroid Cartesian Equation for constant a\n",
    "x = y = [-8.5, 8.5] for a = 2\"\"\"\n",
    "\n",
    "def nephroid(x, y, a=2):\n",
    "    inside = x**2 + y**2 - 4*(a**2)\n",
    "    return (inside**3) - 108 * (y**2) * (a**4)\n",
    "\n",
    "x_start = -8.5\n",
    "x_end = 8.5\n",
    "y_start = -8.5\n",
    "y_end = 8.5\n",
    "grid_size = 250\n",
    "\n",
    "x_vals = np.linspace(x_start, x_end, grid_size)\n",
    "y_vals = np.linspace(y_start, y_end, grid_size)\n",
    "X, Y = np.meshgrid(x_vals, y_vals)\n",
    "\n",
    "Z = nephroid(X, Y)\n",
    "\n",
    "plt.figure(figsize=(6, 6))\n",
    "plt.contour(X, Y, Z, levels=[0], colors='blue')\n",
    "plt.xlabel(\"x\")\n",
    "plt.ylabel(\"y\")\n",
    "plt.grid()\n",
    "plt.savefig(\"./figures/nephroid_cartesian.svg\")\n",
    "\n"
   ]
  },
  {
   "cell_type": "code",
   "execution_count": null,
   "metadata": {},
   "outputs": [],
   "source": [
    "import numpy as np\n",
    "import matplotlib.pyplot as plt\n",
    "\n",
    "def nephroid_polar(x, y, a=2):\n",
    "    first = (x / (2 * a)) ** (2 / 3)\n",
    "    second = np.abs(np.sin(y / 2)) ** (2 / 3)\n",
    "    third = np.abs(np.cos(y / 2)) ** (2 / 3)\n",
    "    return first - second - third\n",
    "\n",
    "# Define a larger grid (x in [-0.5, 9], y in [-1, 2π+1])\n",
    "x_start = -0.5\n",
    "x_end = 9\n",
    "y_start = -1  # Extend beyond 0\n",
    "y_end = 2 * np.pi + 1  # Extend beyond 2π\n",
    "grid_size = 5000\n",
    "\n",
    "# Create grid for contour plot (larger domain)\n",
    "x_vals = np.linspace(x_start, x_end, grid_size)\n",
    "y_vals = np.linspace(y_start, y_end, grid_size)\n",
    "X, Y = np.meshgrid(x_vals, y_vals)\n",
    "\n",
    "# Compute the function values\n",
    "Z = nephroid_polar(X, Y)\n",
    "\n",
    "# Mask the values outside of y = [0, 2π] to hide them in the contour plot\n",
    "Z[Y < 0] = np.nan  # Mask below y = 0\n",
    "Z[Y > 2 * np.pi] = np.nan  # Mask above y = 2π\n",
    "Z[X < 0] = np.nan  # Mask below y = 0\n",
    "\n",
    "\n",
    "# Create the figure\n",
    "plt.figure(figsize=(6, 6))\n",
    "\n",
    "# Plot the contour only where Z = 0 (within y = [0, 2π])\n",
    "plt.contour(X, Y, Z, levels=[0], colors='blue')\n",
    "\n",
    "l = 1.2\n",
    "# Add the boundary lines\n",
    "plt.plot([0, 4], [0, 0], 'b--', linewidth=l)  # Bottom horizontal line\n",
    "plt.plot([0, 0], [0, 2 * np.pi], 'b--', linewidth=l)  # Left vertical line\n",
    "plt.plot([0, 4], [2 * np.pi, 2 * np.pi], 'b--', linewidth=l)  # Top horizontal line\n",
    "\n",
    "# Formatting\n",
    "plt.xlabel(\"r\")\n",
    "plt.ylabel(\"theta\")\n",
    "plt.yticks([0, np.pi, 2 * np.pi], labels=[\"0\", \"π\", \"2π\"])\n",
    "plt.grid()\n",
    "\n",
    "plt.savefig(\"./figures/nephroid_ortho_polar.svg\")\n"
   ]
  },
  {
   "cell_type": "code",
   "execution_count": null,
   "metadata": {},
   "outputs": [],
   "source": [
    "r\"\"\" Cardioid Equation for constant a\n",
    "x=[-9, 3]\n",
    "y=[-6, 6]\"\"\"\n",
    "def cardioid(x, y, a=2):\n",
    "    r = np.sqrt(x**2 + y**2)\n",
    "    theta = np.arctan2(y, x)\n",
    "    \n",
    "    return r - 2*a*(1-np.cos(theta))\n",
    "\n",
    "x_start = -9\n",
    "x_end = 3\n",
    "y_start = -6\n",
    "y_end = 6\n",
    "grid_size = 250\n",
    "\n",
    "x_vals = np.linspace(x_start, x_end, grid_size)\n",
    "y_vals = np.linspace(y_start, y_end, grid_size)\n",
    "X, Y = np.meshgrid(x_vals, y_vals)\n",
    "\n",
    "Z = cardioid(X, Y)\n",
    "\n",
    "plt.figure(figsize=(6, 6))\n",
    "plt.contour(X, Y, Z, levels=[0], colors='blue')\n",
    "plt.xlabel(\"x\")\n",
    "plt.ylabel(\"y\")\n",
    "plt.grid()\n",
    "plt.savefig(\"./figures/cardioid_cartesian.svg\")\n",
    "\n"
   ]
  },
  {
   "cell_type": "code",
   "execution_count": null,
   "metadata": {},
   "outputs": [],
   "source": [
    "import numpy as np\n",
    "import matplotlib.pyplot as plt\n",
    "\n",
    "def cardioid_polar(x, y, a=2):\n",
    "    return x - 2*a*(1-np.cos(y))\n",
    "\n",
    "# Define a larger grid (x in [-0.5, 9], y in [-1, 2π+1])\n",
    "x_start = -0.5\n",
    "x_end = 9\n",
    "y_start = -1  # Extend beyond 0\n",
    "y_end = 2 * np.pi + 1  # Extend beyond 2π\n",
    "grid_size = 5000\n",
    "\n",
    "# Create grid for contour plot (larger domain)\n",
    "x_vals = np.linspace(x_start, x_end, grid_size)\n",
    "y_vals = np.linspace(y_start, y_end, grid_size)\n",
    "X, Y = np.meshgrid(x_vals, y_vals)\n",
    "\n",
    "# Compute the function values\n",
    "Z = cardioid_polar(X, Y)\n",
    "\n",
    "# Mask the values outside of y = [0, 2π] to hide them in the contour plot\n",
    "Z[Y < 0] = np.nan  # Mask below y = 0\n",
    "Z[Y > 2 * np.pi] = np.nan  # Mask above y = 2π\n",
    "Z[X < 0] = np.nan  # Mask below y = 0\n",
    "\n",
    "\n",
    "# Create the figure\n",
    "plt.figure(figsize=(6, 6))\n",
    "\n",
    "# Plot the contour only where Z = 0 (within y = [0, 2π])\n",
    "plt.contour(X, Y, Z, levels=[0], colors='blue')\n",
    "\n",
    "l = 1.2\n",
    "# Add the boundary lines\n",
    "plt.plot([0, 0], [0, 2 * np.pi], 'b--', linewidth=l)  # Left vertical line\n",
    "\n",
    "# Formatting\n",
    "plt.xlabel(\"r\")\n",
    "plt.ylabel(\"theta\")\n",
    "plt.yticks([0, np.pi, 2 * np.pi], labels=[\"0\", \"π\", \"2π\"])\n",
    "plt.grid()\n",
    "\n",
    "# Show the plot\n",
    "plt.savefig(\"./figures/cardioid_ortho_polar.svg\")"
   ]
  },
  {
   "cell_type": "code",
   "execution_count": 1,
   "metadata": {},
   "outputs": [
    {
     "data": {
      "text/plain": [
       "[<matplotlib.lines.Line2D at 0x7fd175d90d30>]"
      ]
     },
     "execution_count": 1,
     "metadata": {},
     "output_type": "execute_result"
    },
    {
     "data": {
      "image/png": "[encoded data removed]",
      "text/plain": [
       "<Figure size 640x480 with 1 Axes>"
      ]
     },
     "metadata": {},
     "output_type": "display_data"
    }
   ],
   "source": [
    "import numpy as np\n",
    "import matplotlib.pyplot as plt\n",
    "\n",
    "t = np.linspace(-5, 5, 250)\n",
    "a = 1\n",
    "x = a * (6*np.cos(t) - np.cos(6*t))\n",
    "y = a * (6*np.sin(t) - np.sin(6*t))\n",
    "\n",
    "plt.plot(x, y)\n",
    "    "
   ]
  },
  {
   "cell_type": "code",
   "execution_count": 10,
   "metadata": {},
   "outputs": [
    {
     "data": {
      "text/plain": [
       "[<matplotlib.lines.Line2D at 0x7fd172c40b20>]"
      ]
     },
     "execution_count": 10,
     "metadata": {},
     "output_type": "execute_result"
    },
    {
     "data": {
      "image/png": "[encoded data removed]",
      "text/plain": [
       "<Figure size 640x480 with 1 Axes>"
      ]
     },
     "metadata": {},
     "output_type": "display_data"
    }
   ],
   "source": [
    "phi = np.linspace(-10, 10, 500)\n",
    "a = 1\n",
    "n = 7\n",
    "b = a/n\n",
    "\n",
    "x = (a+b)*np.cos(phi) - b*np.cos(((a+b) * phi) / (b))\n",
    "\n",
    "y = (a+b)*np.sin(phi) - b*np.sin(((a+b) * phi) / (b))\n",
    "\n",
    "plt.plot(x, y)"
   ]
  },
  {
   "cell_type": "code",
   "execution_count": null,
   "metadata": {},
   "outputs": [],
   "source": [
    "r = np.sqrt(((a**2) / (n**2)) * (n**2 + 2*n + 2) - 2*(n+1)*np.cos(n*phi))\n",
    "theta = np.arctan(((n+1) * np.sin(phi) - np.sin(phi * (n+1))) / ((n+1) * np.cos(phi) - np.cos(phi * (n+1))))\n",
    "\n",
    "plt.plot(r, theta)"
   ]
  }
 ],
 "metadata": {
  "kernelspec": {
   "display_name": "Python 3",
   "language": "python",
   "name": "python3"
  },
  "language_info": {
   "codemirror_mode": {
    "name": "ipython",
    "version": 3
   },
   "file_extension": ".py",
   "mimetype": "text/x-python",
   "name": "python",
   "nbconvert_exporter": "python",
   "pygments_lexer": "ipython3",
   "version": "3.10.12"
  }
 },
 "nbformat": 4,
 "nbformat_minor": 2
}
